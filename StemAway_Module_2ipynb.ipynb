{
  "nbformat": 4,
  "nbformat_minor": 0,
  "metadata": {
    "colab": {
      "name": "StemAway Module 2ipynb",
      "provenance": [],
      "authorship_tag": "ABX9TyMWetfAgT3uza7o41ZTHUrF",
      "include_colab_link": true
    },
    "kernelspec": {
      "name": "python3",
      "display_name": "Python 3"
    },
    "language_info": {
      "name": "python"
    }
  },
  "cells": [
    {
      "cell_type": "markdown",
      "metadata": {
        "id": "view-in-github",
        "colab_type": "text"
      },
      "source": [
        "<a href=\"https://colab.research.google.com/github/ryanOh67/StemAwayTeamModule2/blob/main/StemAway_Module_2ipynb.ipynb\" target=\"_parent\"><img src=\"https://colab.research.google.com/assets/colab-badge.svg\" alt=\"Open In Colab\"/></a>"
      ]
    },
    {
      "cell_type": "code",
      "metadata": {
        "colab": {
          "base_uri": "https://localhost:8080/"
        },
        "id": "cRVJ2NTDdx2r",
        "outputId": "9880747c-ecc1-4e12-c4f1-65be7193840e"
      },
      "source": [
        "pip install BeautifulSoup4\n"
      ],
      "execution_count": null,
      "outputs": [
        {
          "output_type": "stream",
          "text": [
            "Requirement already satisfied: BeautifulSoup4 in /usr/local/lib/python3.7/dist-packages (4.6.3)\n"
          ],
          "name": "stdout"
        }
      ]
    },
    {
      "cell_type": "code",
      "metadata": {
        "colab": {
          "base_uri": "https://localhost:8080/"
        },
        "id": "7E_8pDoKeE-3",
        "outputId": "1096776b-a720-4601-a6cf-143bc7089464"
      },
      "source": [
        "from bs4 import BeautifulSoup\n",
        "from urllib.request import urlopen\n",
        "\n",
        "url = \"https://forums.tapas.io/\"\n",
        "page = urlopen(url)\n",
        "html = page.read().decode(\"utf-8\")\n",
        "soup = BeautifulSoup(html, \"html.parser\")\n",
        "results = soup.find_all('a')\n",
        "counter = 0\n",
        "for i in results:\n",
        "  results2 = i.find_all(\"span\")\n",
        "  for j in results2:\n",
        "    print(j.string)\n",
        "  counter+=1\n",
        "  \n",
        "\n",
        "#results = soup.find(itemprop=\"itemListElement\")\n",
        "#print(results.prettify())\n",
        "#print(soup)\n",
        "# results = soup.find_all(itemprop=\"itemListElement\")\n",
        "\n",
        "\n",
        "\n",
        "#print(soup)\n",
        "#\n",
        "#print(results)\n",
        "\n",
        "#indicateGameDone = soup.find(\"div\", {\"class\": \"nbaModTopStatus\"})\n"
      ],
      "execution_count": null,
      "outputs": [
        {
          "output_type": "stream",
          "text": [
            "Le Château des Malheureux (D&DD)\n",
            "Sub 4 Sub - Q.Your Character's Height? Promote (Let's help each other get subs!)\n",
            "Tools for Digital art/comics, what's yours?\n",
            "Newly updated comics post here!\n",
            "Promotion with chapter/volume/comic covers!\n",
            "Anyone wanna promote their Comics/Novels?\n",
            "I'll critique your story summary! [Comics AND Novels]\n",
            "How did you pick the font for your novel or comic title?\n",
            "Just updated your novel/ comic? Share it here!\n",
            "Shameless Plug: my Tapas Novel is now COMPLETE - Share yours!\n",
            "Meme drop it like it’s hot 🎤\n",
            "An Attractive Comic\n",
            "Post Your Latest page - July 2021\n",
            "NEED HELP WITH PROMOTION. I can help you there\n",
            "Art telepone:Anyone want to continue it? I finished my part\n",
            "What MOVIE are You Watching Right Now?\n",
            "How has your first favorite comic or novel inspired your first comic or novel?\n",
            "Strange, Weird, HUH? with Kindle Vella Writers\n",
            "Whats Yalls opinion on Religion?\n",
            "No result. I leave this site\n",
            "I need your opinion!\n",
            "What do you think about Amazon and Jeff Bezos?\n",
            "Sooooo close to that first 100 ... Let's give each other a boost!\n",
            "100 Sub art request giveaway!\n",
            "It's my birthday and my dad's birthday today\n",
            "July COMICS CHALLENGE - Get Stuff Done!\n",
            "Writer Looking for an Animator [Paid by Profit]\n",
            "The Sketch a Day Thread!\n",
            "#tapastry not for comics?\n",
            "Has anyone signed non-exclusive contract requiring ID?\n"
          ],
          "name": "stdout"
        }
      ]
    },
    {
      "cell_type": "markdown",
      "metadata": {
        "id": "DU7QgYp5vVdX"
      },
      "source": [
        "# 새 섹션"
      ]
    },
    {
      "cell_type": "code",
      "metadata": {
        "id": "WLnlIlgBePD8"
      },
      "source": [
        "#print(soup)\n",
        "#'class = \"category\"'\n",
        "\n",
        "import csv\n",
        "file = open('helloRyan.csv','w', -1, \"utf-8\", newline = '')\n",
        "writer = csv.writer(file)\n",
        "writer.writerow(['DataSet (What the user wrote)'])\n",
        "for i in results:\n",
        "  results2 = i.find_all(\"span\")\n",
        "  for j in results2:\n",
        "     writer.writerow([j.string])\n",
        "  counter+=1\n",
        "\n",
        "file.close()\n",
        "#soup.find_all(\"a\")"
      ],
      "execution_count": null,
      "outputs": []
    },
    {
      "cell_type": "code",
      "metadata": {
        "id": "Gu7icRdLg6UB"
      },
      "source": [
        ""
      ],
      "execution_count": null,
      "outputs": []
    }
  ]
}